{
  "nbformat": 4,
  "nbformat_minor": 0,
  "metadata": {
    "colab": {
      "provenance": [],
      "authorship_tag": "ABX9TyNzC9EjghyB5cFWeQDieq/s",
      "include_colab_link": true
    },
    "kernelspec": {
      "name": "python3",
      "display_name": "Python 3"
    },
    "language_info": {
      "name": "python"
    }
  },
  "cells": [
    {
      "cell_type": "markdown",
      "metadata": {
        "id": "view-in-github",
        "colab_type": "text"
      },
      "source": [
        "<a href=\"https://colab.research.google.com/github/aditya6875/DSA-Sheet-Solutions/blob/main/Java_OOP.ipynb\" target=\"_parent\"><img src=\"https://colab.research.google.com/assets/colab-badge.svg\" alt=\"Open In Colab\"/></a>"
      ]
    },
    {
      "cell_type": "code",
      "source": [
        "'''\n",
        "Prerequisite:\n",
        "  Method declaration\n",
        "  Method passing -- communication\n",
        "\n",
        "\n",
        "OOPS concepts\n",
        "1.Class\n",
        "2.Object\n",
        "3.Method and method passing\n",
        "4.Pillar of OOPs\n",
        "    Abstration\n",
        "    Encapsulation\n",
        "    Inheritance\n",
        "    Polymorphism\n",
        "        Compile-time polymorphism\n",
        "        Run-time polymorphism\n",
        "\n",
        "'''"
      ],
      "metadata": {
        "id": "7DtTQdxbY-bR"
      },
      "execution_count": null,
      "outputs": []
    },
    {
      "cell_type": "markdown",
      "source": [
        "CLASS"
      ],
      "metadata": {
        "id": "wDKo6DjNZst6"
      }
    },
    {
      "cell_type": "code",
      "source": [
        "'''\n",
        "Class is a user defined blueprint or prototype from which objects are created.\n",
        "It represents the set of properties or methods that are common to all objects of one type. \n",
        "Using classes, you can create multiple objects with the same behavior instead of writing their code multiple times.\n",
        "\n",
        "----------------------------------\n",
        "Syntax to declare a class:\n",
        "-----------------------------------------\n",
        "access_modifier class<class_name>\n",
        "{  \n",
        "    data member;  \n",
        "    method;  \n",
        "    constructor;\n",
        "    nested class;\n",
        "    interface;\n",
        "}\n",
        "'''"
      ],
      "metadata": {
        "id": "7eakuIa9ZpqZ"
      },
      "execution_count": null,
      "outputs": []
    },
    {
      "cell_type": "code",
      "source": [
        "class Student\n",
        "{ \n",
        "    int id;//data member (also instance variable) \n",
        "    String name; //data member (also instance variable) \n",
        " \n",
        "    public static void main(String args[])\n",
        "    { \n",
        "        Student s1=new Student();//creating an object of Student \n",
        "        System.out.println(s1.id); \n",
        "        System.out.println(s1.name); \n",
        "     } \n",
        "} \n",
        "# Output\n",
        "#---------------------\n",
        "# 0\n",
        "# null"
      ],
      "metadata": {
        "id": "eSR6Q1Dtc0jl"
      },
      "execution_count": null,
      "outputs": []
    },
    {
      "cell_type": "markdown",
      "source": [
        "**BODY**"
      ],
      "metadata": {
        "id": "qNgeIafnaIq4"
      }
    },
    {
      "cell_type": "code",
      "source": [
        "'''\n",
        "An object is a basic unit of Object-Oriented Programming that represents real-life entities. \n",
        "The objects are what perform your code, they are the part of your code visible to the viewer/user.\n",
        "An object mainly consists of:\n",
        "  State\n",
        "  Behaviour\n",
        "  Identity\n",
        "  Method\n",
        "\n",
        "=======================================================\n",
        "Ways to create an object of a class\n",
        "=======================================================\n",
        "1. Using new keyword\n",
        "    // creating object of class Test\n",
        "      Test t = new Test();\n",
        "\n",
        "2. Using Class.forName(String className) method\n",
        "    There is a pre-defined class in java.lang package with name Class.\n",
        "    // creating object of public class Test\n",
        "    // consider class Test present in com.p1 package\n",
        "    Test obj = (Test)Class.forName(\"com.p1.Test\").newInstance();\n",
        "\n",
        "3. Using clone() method\n",
        "    // creating object of class Test\n",
        "    Test t1 = new Test();\n",
        "\n",
        "    // creating clone of above object\n",
        "    Test t2 = (Test)t1.clone();\n",
        "\n",
        "4. Deserialization --  De-serialization is a technique of reading an object from the saved state in a file. \n",
        "    FileInputStream file = new FileInputStream(filename);\n",
        "    ObjectInputStream in = new ObjectInputStream(file);\n",
        "    Object obj = in.readObject();\n",
        "=========================================================================================\n",
        "=========================================================================================\n",
        "Anonymous objects are objects that are instantiated but are not stored in a reference variable.  \n",
        "\n",
        "They are used for immediate method calling.\n",
        "They will be destroyed after method calling.\n",
        "\n",
        "'''\n"
      ],
      "metadata": {
        "id": "etPogpRgaOCh"
      },
      "execution_count": null,
      "outputs": []
    },
    {
      "cell_type": "markdown",
      "source": [
        "**Why Java is not a purely Object-Oriented Language?**"
      ],
      "metadata": {
        "id": "eE-non5oao-d"
      }
    },
    {
      "cell_type": "code",
      "source": [
        "'''\n",
        " \n",
        " There are seven qualities to be satisfied for a programming language to be pure Object Oriented.\n",
        "    1.Encapsulation/Data Hiding \n",
        "    2.Inheritance\n",
        "    3.Polymorphism\n",
        "    4.Abstraction\n",
        "    5.All predefined types are objects \n",
        "    6.All user defined types are objects \n",
        "    7.All operations performed on objects must be only through methods exposed at the objects.\n",
        "\n",
        "  Java language is not a Pure Object Oriented Language as it contain these properties:\n",
        "    Primitive Data Type ex. int, long, bool, float, char, etc as Objects\n",
        "    The static keyword\n",
        "    Wrapper Class -- Wrapper class provides the mechanism to convert primitive into object and object into primitive\n",
        "'''"
      ],
      "metadata": {
        "id": "FSWZMOt0aqyy"
      },
      "execution_count": null,
      "outputs": []
    },
    {
      "cell_type": "markdown",
      "source": [
        "# **Inheritance**"
      ],
      "metadata": {
        "id": "FuG2BuE3foTj"
      }
    },
    {
      "cell_type": "code",
      "source": [
        "'''\n",
        "Inheritance is an important pillar of OOP\n",
        "It is the mechanism in java by which one class is allowed to inherit the features(fields and methods) of another class.\n",
        "A class that inherits from another class can reuse the methods and fields of that class. \n",
        "In addition, you can add new fields and methods to your current class as well.  \n",
        "\n",
        "NEED of Inheritance\n",
        "-------------------------\n",
        "Code Resuability\n",
        "Method Overriding\n",
        "Abstraction\n",
        "\n",
        "extend keyword is used for inheritance in java.\n",
        "\n",
        "\n",
        "'''"
      ],
      "metadata": {
        "id": "3h4cbSD_fv7q"
      },
      "execution_count": null,
      "outputs": []
    },
    {
      "cell_type": "code",
      "source": [
        "class Bicycle{\n",
        "    public int gear;\n",
        "    public int speed;\n",
        "\n",
        "    public Bicycle(int gear, int speed){\n",
        "        this.gear=gear;\n",
        "        this.speed=speed;\n",
        "    }\n",
        "\n",
        "    public void applybrake(int decrement){\n",
        "        spped-=decrement\n",
        "    }\n",
        "\n",
        "    public void speedUp(int increment){\n",
        "        speed+=increment\n",
        "    }\n",
        "}\n",
        "class MountainBike extends Bicycle{\n",
        "    public int seatHeight;\n",
        "    public MountainBike(int gear, int speed,int startHeight){\n",
        "        super(gear,speed);\n",
        "        seatHeight=startheight;\n",
        "    }\n",
        "    public void setHeight(int newValue)\n",
        "    {\n",
        "        seatHeight = newValue;\n",
        "    }\n",
        "  \n",
        "    // overriding toString() method\n",
        "    // of Bicycle to print more info\n",
        "    @Override public String toString()\n",
        "    {\n",
        "        return (super.toString() + \"\\nseat height is \"\n",
        "                + seatHeight);\n",
        "    }\n",
        "}\n",
        "  \n",
        "// driver class\n",
        "public class Test {\n",
        "    public static void main(String args[])\n",
        "    {\n",
        "  \n",
        "        MountainBike mb = new MountainBike(3, 100, 25);\n",
        "        System.out.println(mb.toString());\n",
        "    }\n",
        "}\n",
        "\n"
      ],
      "metadata": {
        "id": "AyA2JKSXmusb"
      },
      "execution_count": null,
      "outputs": []
    },
    {
      "cell_type": "code",
      "source": [
        "'''\n",
        "TYPES OF INHERITANCE\n",
        "1. Single inheritance\n",
        "2.Multilevel Inheritance\n",
        "3.Hierarchical inheritance\n",
        "4.Multiple inheritance (through interfaces)\n",
        "\n",
        "'''"
      ],
      "metadata": {
        "id": "mc_xDGPKn-CJ"
      },
      "execution_count": null,
      "outputs": []
    },
    {
      "cell_type": "code",
      "source": [
        "# SINGLE INHERITANCE\n",
        "import java.io.*;\n",
        "import java.lang.*;\n",
        "import java.util.*;\n",
        "  \n",
        "class one {\n",
        "    public void print_geek()\n",
        "    {\n",
        "        System.out.println(\"Geeks\");\n",
        "    }\n",
        "}\n",
        "  \n",
        "class two extends one {\n",
        "    public void print_for() { System.out.println(\"for\"); }\n",
        "}\n",
        "// Driver class\n",
        "public class Main {\n",
        "    public static void main(String[] args)\n",
        "    {\n",
        "        two g = new two();\n",
        "        g.print_geek();\n",
        "        g.print_for();\n",
        "        g.print_geek();\n",
        "    }\n",
        "}"
      ],
      "metadata": {
        "id": "1pe6NmafoaIL"
      },
      "execution_count": null,
      "outputs": []
    },
    {
      "cell_type": "code",
      "source": [
        "# MULTILEVEL INHERITANCE\n",
        "class one {\n",
        "    public void print_geek()\n",
        "    {\n",
        "        System.out.println(\"Geeks\");\n",
        "    }\n",
        "}\n",
        "  \n",
        "class two extends one {\n",
        "    public void print_for() { System.out.println(\"for\"); }\n",
        "}\n",
        "  \n",
        "class three extends two {\n",
        "    public void print_geek()\n",
        "    {\n",
        "        System.out.println(\"Geeks\");\n",
        "    }\n",
        "}\n",
        "  \n",
        "// Drived class\n",
        "public class Main {\n",
        "    public static void main(String[] args)\n",
        "    {\n",
        "        three g = new three();\n",
        "        g.print_geek();\n",
        "        g.print_for();\n",
        "        g.print_geek();\n",
        "    }\n",
        "}"
      ],
      "metadata": {
        "id": "0gUpI19hojJu"
      },
      "execution_count": null,
      "outputs": []
    },
    {
      "cell_type": "markdown",
      "source": [
        "**Abstraction**"
      ],
      "metadata": {
        "id": "Lke3n6A-njs9"
      }
    },
    {
      "cell_type": "code",
      "source": [
        "'''\n",
        "Data Abstraction is the property by virtue of which only the essential details are displayed to the user.\n",
        "\n",
        "EXAMPLE -- A car is viewed as a car rather than its individual components.\n",
        "\n",
        "In java, abstraction is achieved by interfaces and abstract classes. We can achieve 100% abstraction using interfaces.\n",
        "\n",
        "\n",
        "\n",
        "'''"
      ],
      "metadata": {
        "id": "qwz223j8ni9X"
      },
      "execution_count": null,
      "outputs": []
    },
    {
      "cell_type": "code",
      "source": [
        "abstract class Shape {\n",
        "    String color;\n",
        " \n",
        "    // these are abstract methods\n",
        "    abstract double area();\n",
        "    public abstract String toString();\n",
        " \n",
        "    // abstract class can have the constructor\n",
        "    public Shape(String color)\n",
        "    {\n",
        "        System.out.println(\"Shape constructor called\");\n",
        "        this.color = color;\n",
        "    }\n",
        " \n",
        "    // this is a concrete method\n",
        "    public String getColor() { return color; }\n",
        "}\n",
        "class Circle extends Shape {\n",
        "    double radius;\n",
        " \n",
        "    public Circle(String color, double radius)\n",
        "    {\n",
        " \n",
        "        // calling Shape constructor\n",
        "        super(color);\n",
        "        System.out.println(\"Circle constructor called\");\n",
        "        this.radius = radius;\n",
        "    }\n",
        " \n",
        "    @Override double area()\n",
        "    {\n",
        "        return Math.PI * Math.pow(radius, 2);\n",
        "    }\n",
        " \n",
        "    @Override public String toString()\n",
        "    {\n",
        "        return \"Circle color is \" + super.getColor()\n",
        "            + \"and area is : \" + area();\n",
        "    }\n",
        "}\n",
        "class Rectangle extends Shape {\n",
        " \n",
        "    double length;\n",
        "    double width;\n",
        " \n",
        "    public Rectangle(String color, double length,\n",
        "                     double width)\n",
        "    {\n",
        "        // calling Shape constructor\n",
        "        super(color);\n",
        "        System.out.println(\"Rectangle constructor called\");\n",
        "        this.length = length;\n",
        "        this.width = width;\n",
        "    }\n",
        " \n",
        "    @Override double area() { return length * width; }\n",
        " \n",
        "    @Override public String toString()\n",
        "    {\n",
        "        return \"Rectangle color is \" + super.getColor()\n",
        "            + \"and area is : \" + area();\n",
        "    }\n",
        "}\n",
        "public class Test {\n",
        "    public static void main(String[] args)\n",
        "    {\n",
        "        Shape s1 = new Circle(\"Red\", 2.2);\n",
        "        Shape s2 = new Rectangle(\"Yellow\", 2, 4);\n",
        " \n",
        "        System.out.println(s1.toString());\n",
        "        System.out.println(s2.toString());\n",
        "    }\n",
        "}"
      ],
      "metadata": {
        "id": "I6h90h3GNNJi"
      },
      "execution_count": null,
      "outputs": []
    },
    {
      "cell_type": "code",
      "source": [
        "'''\n",
        "Encapsulation vs Data Abstraction\n",
        "\n",
        "    Encapsulation is data hiding while Abstraction is detailed hiding.\n",
        "\n",
        "Advantages of Abstraction\n",
        "    It reduces the complexity of viewing things\n",
        "    Avoids code duplication and increases reusability\n",
        "    Security increases\n",
        "    improves maintainability of the application\n",
        "    improves modularity of the application\n",
        "\n",
        "\n",
        "'''"
      ],
      "metadata": {
        "id": "btegpBnMNWPG"
      },
      "execution_count": null,
      "outputs": []
    },
    {
      "cell_type": "markdown",
      "source": [
        "**Encapsulation**"
      ],
      "metadata": {
        "id": "GM7hY2ekTLsE"
      }
    },
    {
      "cell_type": "code",
      "source": [
        "'''\n",
        "Encapsulation is defined as the wrapping up of data under a single unit.\n",
        "It is the mechanism that binds together code and the data it manipulates. \n",
        "'''"
      ],
      "metadata": {
        "id": "_nxGkMbOTN4v"
      },
      "execution_count": null,
      "outputs": []
    },
    {
      "cell_type": "markdown",
      "source": [
        "**Polymorphism**"
      ],
      "metadata": {
        "id": "fR_1BDlYI6xn"
      }
    },
    {
      "cell_type": "code",
      "source": [
        "'''\n",
        "Aility of a message to be displayed in more than one form. \n",
        "\n",
        "In Java polymorphism is mainly divided into two types: \n",
        "\n",
        "Compile-time Polymorphism\n",
        "Runtime Polymorphism\n",
        "\n",
        "===========================================================\n",
        "Compile-time polymorphism\n",
        "============================================================\n",
        "It is also known as static polymorphism. \n",
        "This type of polymorphism is achieved by function overloading or operator overloading. \n",
        "\n",
        "Java doesn’t support the Operator Overloading.\n",
        "\n",
        "Method Overloading: \n",
        "  When there are multiple functions with the same name but different \n",
        "  parameters then these functions are said to be overloaded.\n",
        "\n",
        "'''"
      ],
      "metadata": {
        "id": "MnFRiUucI6DJ"
      },
      "execution_count": null,
      "outputs": []
    },
    {
      "cell_type": "code",
      "source": [
        "class Helper {\n",
        " \n",
        "    \n",
        "    static int Multiply(int a, int b)\n",
        "    {\n",
        " \n",
        "        \n",
        "        return a * b;\n",
        "    }\n",
        " \n",
        "    \n",
        "    static double Multiply(double a, double b)\n",
        "    {\n",
        " \n",
        "        \n",
        "        return a * b;\n",
        "    }\n",
        "}\n",
        "\n",
        "class GFG {\n",
        " \n",
        "    \n",
        "    public static void main(String[] args)\n",
        "    {\n",
        "        System.out.println(Helper.Multiply(2, 4));\n",
        "        System.out.println(Helper.Multiply(5.5, 6.3));\n",
        "    }\n",
        "}"
      ],
      "metadata": {
        "id": "3V9Z8qFBJLBm"
      },
      "execution_count": null,
      "outputs": []
    },
    {
      "cell_type": "code",
      "source": [
        "'''\n",
        "Runtime polymorphism\n",
        "===============================================\n",
        "It is also known as Dynamic Method Dispatch. \n",
        "It is a process in which a function call to the overridden method is resolved at Runtime. \n",
        "'''"
      ],
      "metadata": {
        "id": "YGkSxnmaKErC"
      },
      "execution_count": null,
      "outputs": []
    },
    {
      "cell_type": "code",
      "source": [
        "'''\n",
        "Dynamic Method Dispatch\n",
        "  Dynamic method dispatch is the mechanism by which a call to an overridden method is resolved at run time, rather than compile time.\n",
        "\n",
        "Advantages of Dynamic Method Dispatch\n",
        "  Dynamic method dispatch allow Java to support overriding of methods which is central for run-time polymorphism.\n",
        "  It allows a class to specify methods that will be common to all of its derivatives, \n",
        "  while allowing subclasses to define the specific implementation of some or all of those methods.\n",
        "\n",
        "'''"
      ],
      "metadata": {
        "id": "-b6vlTAYvj2O"
      },
      "execution_count": null,
      "outputs": []
    }
  ]
}