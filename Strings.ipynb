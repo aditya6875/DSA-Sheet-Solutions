{
  "nbformat": 4,
  "nbformat_minor": 0,
  "metadata": {
    "colab": {
      "provenance": [],
      "authorship_tag": "ABX9TyP2UZVk9axSG8TfWZg4Ylfe"
    },
    "kernelspec": {
      "name": "python3",
      "display_name": "Python 3"
    },
    "language_info": {
      "name": "python"
    }
  },
  "cells": [
    {
      "cell_type": "markdown",
      "source": [
        "Longest Common Prefix"
      ],
      "metadata": {
        "id": "Lq8f5XWASPCD"
      }
    },
    {
      "cell_type": "code",
      "execution_count": 2,
      "metadata": {
        "colab": {
          "base_uri": "https://localhost:8080/"
        },
        "id": "v1f5MAavSL65",
        "outputId": "c9deb7fb-26a2-4b3d-dbf6-bc9fd45b75a5"
      },
      "outputs": [
        {
          "output_type": "stream",
          "name": "stdout",
          "text": [
            "fl\n"
          ]
        }
      ],
      "source": [
        "def longestCommonPrefix(strs):\n",
        "    smallest=len(strs[0])\n",
        "    smal_word=strs[0]\n",
        "    for i in strs:\n",
        "        if smallest>len(i):\n",
        "            smallest=len(i)\n",
        "            smal_word=i\n",
        "    common=0\n",
        "    res=\"\"\n",
        "    for i in range(smallest):\n",
        "        letter=smal_word[i]\n",
        "        \n",
        "        for j in strs:\n",
        "            if j[i]==letter:\n",
        "                common+=1\n",
        "            else:\n",
        "                return res\n",
        "        if common==len(strs):\n",
        "            res+=letter\n",
        "            common=0\n",
        "    return res\n",
        "strs = [\"flower\",\"flow\",\"flight\"]\n",
        "print(longestCommonPrefix(strs))"
      ]
    },
    {
      "cell_type": "markdown",
      "source": [
        "**Valid Palindrome 2**\n"
      ],
      "metadata": {
        "id": "7dzUTgq7TCMa"
      }
    },
    {
      "cell_type": "code",
      "source": [
        "def checkvalid(s,i,j):\n",
        "  while(i<j):\n",
        "      if s[i]==s[j]:\n",
        "          i+=1\n",
        "          j-=1\n",
        "      else:\n",
        "          return False\n",
        "  return True\n",
        "def validPalindrome(s):\n",
        "  i=0\n",
        "  j=len(s)-1\n",
        "  \n",
        "  while(i<j):\n",
        "      if(s[i]==s[j]):\n",
        "          i+=1\n",
        "          j-=1\n",
        "      else:\n",
        "          return checkvalid(s,i+1,j,) or checkvalid(s,i,j-1)\n",
        "  return True \n",
        "print(validPalindrome(\"abc\"))\n",
        "print(validPalindrome(\"abca\"))"
      ],
      "metadata": {
        "colab": {
          "base_uri": "https://localhost:8080/"
        },
        "id": "u9KPGb34THvu",
        "outputId": "ce54f7e3-6e4a-49a8-c534-bdf05ed224f1"
      },
      "execution_count": 7,
      "outputs": [
        {
          "output_type": "stream",
          "name": "stdout",
          "text": [
            "False\n",
            "True\n"
          ]
        }
      ]
    }
  ]
}