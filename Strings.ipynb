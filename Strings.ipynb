{
  "nbformat": 4,
  "nbformat_minor": 0,
  "metadata": {
    "colab": {
      "provenance": [],
      "authorship_tag": "ABX9TyOvlr4zF1pAel7g7th/8A/+"
    },
    "kernelspec": {
      "name": "python3",
      "display_name": "Python 3"
    },
    "language_info": {
      "name": "python"
    }
  },
  "cells": [
    {
      "cell_type": "markdown",
      "source": [
        "Longest Common Prefix"
      ],
      "metadata": {
        "id": "Lq8f5XWASPCD"
      }
    },
    {
      "cell_type": "code",
      "execution_count": 2,
      "metadata": {
        "colab": {
          "base_uri": "https://localhost:8080/"
        },
        "id": "v1f5MAavSL65",
        "outputId": "c9deb7fb-26a2-4b3d-dbf6-bc9fd45b75a5"
      },
      "outputs": [
        {
          "output_type": "stream",
          "name": "stdout",
          "text": [
            "fl\n"
          ]
        }
      ],
      "source": [
        "def longestCommonPrefix(strs):\n",
        "    smallest=len(strs[0])\n",
        "    smal_word=strs[0]\n",
        "    for i in strs:\n",
        "        if smallest>len(i):\n",
        "            smallest=len(i)\n",
        "            smal_word=i\n",
        "    common=0\n",
        "    res=\"\"\n",
        "    for i in range(smallest):\n",
        "        letter=smal_word[i]\n",
        "        \n",
        "        for j in strs:\n",
        "            if j[i]==letter:\n",
        "                common+=1\n",
        "            else:\n",
        "                return res\n",
        "        if common==len(strs):\n",
        "            res+=letter\n",
        "            common=0\n",
        "    return res\n",
        "strs = [\"flower\",\"flow\",\"flight\"]\n",
        "print(longestCommonPrefix(strs))"
      ]
    }
  ]
}