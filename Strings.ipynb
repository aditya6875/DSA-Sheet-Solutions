{
  "nbformat": 4,
  "nbformat_minor": 0,
  "metadata": {
    "colab": {
      "provenance": [],
      "authorship_tag": "ABX9TyM4ugQpQXIb+Qp94gVPYF5h",
      "include_colab_link": true
    },
    "kernelspec": {
      "name": "python3",
      "display_name": "Python 3"
    },
    "language_info": {
      "name": "python"
    }
  },
  "cells": [
    {
      "cell_type": "markdown",
      "metadata": {
        "id": "view-in-github",
        "colab_type": "text"
      },
      "source": [
        "<a href=\"https://colab.research.google.com/github/aditya6875/DSA-Sheet-Solutions/blob/main/Strings.ipynb\" target=\"_parent\"><img src=\"https://colab.research.google.com/assets/colab-badge.svg\" alt=\"Open In Colab\"/></a>"
      ]
    },
    {
      "cell_type": "markdown",
      "source": [
        "Longest Common Prefix"
      ],
      "metadata": {
        "id": "Lq8f5XWASPCD"
      }
    },
    {
      "cell_type": "code",
      "execution_count": null,
      "metadata": {
        "colab": {
          "base_uri": "https://localhost:8080/"
        },
        "id": "v1f5MAavSL65",
        "outputId": "c9deb7fb-26a2-4b3d-dbf6-bc9fd45b75a5"
      },
      "outputs": [
        {
          "output_type": "stream",
          "name": "stdout",
          "text": [
            "fl\n"
          ]
        }
      ],
      "source": [
        "def longestCommonPrefix(strs):\n",
        "    smallest=len(strs[0])\n",
        "    smal_word=strs[0]\n",
        "    for i in strs:\n",
        "        if smallest>len(i):\n",
        "            smallest=len(i)\n",
        "            smal_word=i\n",
        "    common=0\n",
        "    res=\"\"\n",
        "    for i in range(smallest):\n",
        "        letter=smal_word[i]\n",
        "        \n",
        "        for j in strs:\n",
        "            if j[i]==letter:\n",
        "                common+=1\n",
        "            else:\n",
        "                return res\n",
        "        if common==len(strs):\n",
        "            res+=letter\n",
        "            common=0\n",
        "    return res\n",
        "strs = [\"flower\",\"flow\",\"flight\"]\n",
        "print(longestCommonPrefix(strs))"
      ]
    },
    {
      "cell_type": "markdown",
      "source": [
        "**Valid Palindrome 2**\n"
      ],
      "metadata": {
        "id": "7dzUTgq7TCMa"
      }
    },
    {
      "cell_type": "code",
      "source": [
        "def checkvalid(s,i,j):\n",
        "  while(i<j):\n",
        "      if s[i]==s[j]:\n",
        "          i+=1\n",
        "          j-=1\n",
        "      else:\n",
        "          return False\n",
        "  return True\n",
        "def validPalindrome(s):\n",
        "  i=0\n",
        "  j=len(s)-1\n",
        "  \n",
        "  while(i<j):\n",
        "      if(s[i]==s[j]):\n",
        "          i+=1\n",
        "          j-=1\n",
        "      else:\n",
        "          return checkvalid(s,i+1,j,) or checkvalid(s,i,j-1)\n",
        "  return True \n",
        "print(validPalindrome(\"abc\"))\n",
        "print(validPalindrome(\"abca\"))"
      ],
      "metadata": {
        "colab": {
          "base_uri": "https://localhost:8080/"
        },
        "id": "u9KPGb34THvu",
        "outputId": "09841640-8e7d-4e8a-a2db-8be555a46687"
      },
      "execution_count": null,
      "outputs": [
        {
          "output_type": "stream",
          "name": "stdout",
          "text": [
            "False\n",
            "True\n"
          ]
        }
      ]
    },
    {
      "cell_type": "markdown",
      "source": [
        "**Generate Paranthesis**"
      ],
      "metadata": {
        "id": "qAPqfG8Tg-HE"
      }
    },
    {
      "cell_type": "code",
      "source": [
        "def generate(cur,o,c,res,n):\n",
        "  if len(cur)==2*n:\n",
        "    res.append(cur)\n",
        "    return\n",
        "  if o<n:\n",
        "    generate(cur+\"(\",o+1,c,res,n)\n",
        "  if c<o:\n",
        "    generate(cur+\")\",o,c+1,res,n)\n",
        "\n",
        "def generateParanthesis(n):\n",
        "  res=[]\n",
        "  o=1\n",
        "  c=0\n",
        "  generate(\"(\",o,c,res,n)\n",
        "  return res\n",
        "n=3\n",
        "print(generateParanthesis(n))"
      ],
      "metadata": {
        "colab": {
          "base_uri": "https://localhost:8080/"
        },
        "id": "hgtsDJsVhDTW",
        "outputId": "bd1e329a-ea2a-4276-95e2-4b0e3638b25b"
      },
      "execution_count": 7,
      "outputs": [
        {
          "output_type": "stream",
          "name": "stdout",
          "text": [
            "['((()))', '(()())', '(())()', '()(())', '()()()']\n"
          ]
        }
      ]
    }
  ]
}