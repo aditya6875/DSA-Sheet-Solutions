{
  "nbformat": 4,
  "nbformat_minor": 0,
  "metadata": {
    "colab": {
      "provenance": [],
      "collapsed_sections": [],
      "authorship_tag": "ABX9TyPzUtSdG853sNhtyHkhiSW3",
      "include_colab_link": true
    },
    "kernelspec": {
      "name": "python3",
      "display_name": "Python 3"
    },
    "language_info": {
      "name": "python"
    }
  },
  "cells": [
    {
      "cell_type": "markdown",
      "metadata": {
        "id": "view-in-github",
        "colab_type": "text"
      },
      "source": [
        "<a href=\"https://colab.research.google.com/github/aditya6875/DSA-Sheet-Solutions/blob/main/Java_OOP.ipynb\" target=\"_parent\"><img src=\"https://colab.research.google.com/assets/colab-badge.svg\" alt=\"Open In Colab\"/></a>"
      ]
    },
    {
      "cell_type": "code",
      "source": [
        "'''\n",
        "Prerequisite:\n",
        "  Method declaration\n",
        "  Method passing -- communication\n",
        "\n",
        "\n",
        "OOPS concepts\n",
        "1.Class\n",
        "2.Object\n",
        "3.Method and method passing\n",
        "4.Pillar of OOPs\n",
        "    Abstration\n",
        "    Encapsulation\n",
        "    Inheritance\n",
        "    Polymorphism\n",
        "        Compile-time polymorphism\n",
        "        Run-time polymorphism\n",
        "\n",
        "'''"
      ],
      "metadata": {
        "id": "7DtTQdxbY-bR"
      },
      "execution_count": null,
      "outputs": []
    },
    {
      "cell_type": "markdown",
      "source": [
        "CLASS"
      ],
      "metadata": {
        "id": "wDKo6DjNZst6"
      }
    },
    {
      "cell_type": "code",
      "source": [
        "'''\n",
        "Class is a user defined blueprint or prototype from which objects are created.\n",
        "It represents the set of properties or methods that are common to all objects of one type. \n",
        "Using classes, you can create multiple objects with the same behavior instead of writing their code multiple times.\n",
        "\n",
        "----------------------------------\n",
        "Syntax to declare a class:\n",
        "-----------------------------------------\n",
        "access_modifier class<class_name>\n",
        "{  \n",
        "    data member;  \n",
        "    method;  \n",
        "    constructor;\n",
        "    nested class;\n",
        "    interface;\n",
        "}\n",
        "'''"
      ],
      "metadata": {
        "id": "7eakuIa9ZpqZ"
      },
      "execution_count": null,
      "outputs": []
    },
    {
      "cell_type": "code",
      "source": [
        "class Student\n",
        "{ \n",
        "    int id;//data member (also instance variable) \n",
        "    String name; //data member (also instance variable) \n",
        " \n",
        "    public static void main(String args[])\n",
        "    { \n",
        "        Student s1=new Student();//creating an object of Student \n",
        "        System.out.println(s1.id); \n",
        "        System.out.println(s1.name); \n",
        "     } \n",
        "} \n",
        "# Output\n",
        "#---------------------\n",
        "# 0\n",
        "# null"
      ],
      "metadata": {
        "id": "eSR6Q1Dtc0jl"
      },
      "execution_count": null,
      "outputs": []
    },
    {
      "cell_type": "markdown",
      "source": [
        "**BODY**"
      ],
      "metadata": {
        "id": "qNgeIafnaIq4"
      }
    },
    {
      "cell_type": "code",
      "source": [
        "'''\n",
        "An object is a basic unit of Object-Oriented Programming that represents real-life entities. \n",
        "The objects are what perform your code, they are the part of your code visible to the viewer/user.\n",
        "An object mainly consists of:\n",
        "  State\n",
        "  Behaviour\n",
        "  Identity\n",
        "  Method\n",
        "\n",
        "=======================================================\n",
        "Ways to create an object of a class\n",
        "=======================================================\n",
        "1. Using new keyword\n",
        "    // creating object of class Test\n",
        "      Test t = new Test();\n",
        "\n",
        "2. Using Class.forName(String className) method\n",
        "    There is a pre-defined class in java.lang package with name Class.\n",
        "    // creating object of public class Test\n",
        "    // consider class Test present in com.p1 package\n",
        "    Test obj = (Test)Class.forName(\"com.p1.Test\").newInstance();\n",
        "\n",
        "3. Using clone() method\n",
        "    // creating object of class Test\n",
        "    Test t1 = new Test();\n",
        "\n",
        "    // creating clone of above object\n",
        "    Test t2 = (Test)t1.clone();\n",
        "\n",
        "4. Deserialization --  De-serialization is a technique of reading an object from the saved state in a file. \n",
        "    FileInputStream file = new FileInputStream(filename);\n",
        "    ObjectInputStream in = new ObjectInputStream(file);\n",
        "    Object obj = in.readObject();\n",
        "=========================================================================================\n",
        "=========================================================================================\n",
        "Anonymous objects are objects that are instantiated but are not stored in a reference variable.  \n",
        "\n",
        "They are used for immediate method calling.\n",
        "They will be destroyed after method calling.\n",
        "\n",
        "'''\n"
      ],
      "metadata": {
        "id": "etPogpRgaOCh"
      },
      "execution_count": null,
      "outputs": []
    },
    {
      "cell_type": "markdown",
      "source": [
        "**Why Java is not a purely Object-Oriented Language?**"
      ],
      "metadata": {
        "id": "eE-non5oao-d"
      }
    },
    {
      "cell_type": "code",
      "source": [
        "'''\n",
        " \n",
        " There are seven qualities to be satisfied for a programming language to be pure Object Oriented.\n",
        "    1.Encapsulation/Data Hiding \n",
        "    2.Inheritance\n",
        "    3.Polymorphism\n",
        "    4.Abstraction\n",
        "    5.All predefined types are objects \n",
        "    6.All user defined types are objects \n",
        "    7.All operations performed on objects must be only through methods exposed at the objects.\n",
        "\n",
        "  Java language is not a Pure Object Oriented Language as it contain these properties:\n",
        "    Primitive Data Type ex. int, long, bool, float, char, etc as Objects\n",
        "    The static keyword\n",
        "    Wrapper Class -- Wrapper class provides the mechanism to convert primitive into object and object into primitive\n",
        "'''"
      ],
      "metadata": {
        "id": "FSWZMOt0aqyy"
      },
      "execution_count": null,
      "outputs": []
    },
    {
      "cell_type": "markdown",
      "source": [
        "# **Inheritance**"
      ],
      "metadata": {
        "id": "FuG2BuE3foTj"
      }
    },
    {
      "cell_type": "code",
      "source": [
        "'''\n",
        "Inheritance is an important pillar of OOP\n",
        "It is the mechanism in java by which one class is allowed to inherit the features(fields and methods) of another class.\n",
        "A class that inherits from another class can reuse the methods and fields of that class. \n",
        "In addition, you can add new fields and methods to your current class as well.  \n",
        "\n",
        "NEED of Inheritance\n",
        "-------------------------\n",
        "Code Resuability\n",
        "Method Overriding\n",
        "Abstraction\n",
        "\n",
        "\n",
        "\n",
        "'''"
      ],
      "metadata": {
        "id": "3h4cbSD_fv7q"
      },
      "execution_count": null,
      "outputs": []
    }
  ]
}