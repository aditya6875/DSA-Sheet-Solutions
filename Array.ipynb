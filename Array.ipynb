{
  "nbformat": 4,
  "nbformat_minor": 0,
  "metadata": {
    "colab": {
      "provenance": [],
      "authorship_tag": "ABX9TyPv/BlrHMCM3XeAKsu6RvRx",
      "include_colab_link": true
    },
    "kernelspec": {
      "name": "python3",
      "display_name": "Python 3"
    },
    "language_info": {
      "name": "python"
    }
  },
  "cells": [
    {
      "cell_type": "markdown",
      "metadata": {
        "id": "view-in-github",
        "colab_type": "text"
      },
      "source": [
        "<a href=\"https://colab.research.google.com/github/aditya6875/DSA-Sheet-Solutions/blob/main/Array.ipynb\" target=\"_parent\"><img src=\"https://colab.research.google.com/assets/colab-badge.svg\" alt=\"Open In Colab\"/></a>"
      ]
    },
    {
      "cell_type": "markdown",
      "source": [
        "**Reverse the Array**"
      ],
      "metadata": {
        "id": "2zK1pvbHvy-F"
      }
    },
    {
      "cell_type": "code",
      "execution_count": null,
      "metadata": {
        "colab": {
          "base_uri": "https://localhost:8080/"
        },
        "id": "AfROYBg5vw2r",
        "outputId": "c092056b-ee3f-4a4b-c814-f2ff38f95ecc"
      },
      "outputs": [
        {
          "output_type": "stream",
          "name": "stdout",
          "text": [
            "[5, 4, 3, 2, 1]\n",
            "[1, 2, 3, 4, 5]\n"
          ]
        }
      ],
      "source": [
        "# arr=[1,2,3,4,5,6]\n",
        "arr=[1,2,3,4,5]\n",
        "# M-1\n",
        "arr.reverse()\n",
        "print(arr)\n",
        "\n",
        "# M-2\n",
        "'''\n",
        "two pointer approach \n",
        "'''\n",
        "l=0\n",
        "h=len(arr)-1\n",
        "while(l<h):\n",
        "  arr[l],arr[h]=arr[h],arr[l]\n",
        "  l+=1\n",
        "  h-=1\n",
        "print(arr)\n"
      ]
    },
    {
      "cell_type": "markdown",
      "source": [
        "**Maximum and Minimum element in an array**"
      ],
      "metadata": {
        "id": "IC8BliZ9wuoa"
      }
    },
    {
      "cell_type": "code",
      "source": [
        "arr=[-100,2,0,90,5,10]\n",
        "maxi=-9999999\n",
        "mini=999999\n",
        "\n",
        "for i in arr:\n",
        "  if i >maxi:\n",
        "    maxi=i\n",
        "  if i <mini:\n",
        "    mini=i\n",
        "print(maxi)\n",
        "print(mini)\n",
        "  "
      ],
      "metadata": {
        "colab": {
          "base_uri": "https://localhost:8080/"
        },
        "id": "aiWhiCumwzpM",
        "outputId": "8f21009f-a94a-449b-97ab-0deba3703d63"
      },
      "execution_count": null,
      "outputs": [
        {
          "output_type": "stream",
          "name": "stdout",
          "text": [
            "90\n",
            "-100\n"
          ]
        }
      ]
    },
    {
      "cell_type": "markdown",
      "source": [
        "**Kth Max and Min in an array**"
      ],
      "metadata": {
        "id": "0OtkQQUpyuvD"
      }
    },
    {
      "cell_type": "code",
      "source": [
        "arr=[7, 10, 4,3,20,15]\n",
        "K=3\n",
        "\n",
        "# M-1 \n",
        "# Sort the array and print kth element\n",
        "\n",
        "# M-2 \n",
        "# WE CAN FIND SMALLEST ONLY ELEMENT BY USING SET DS.\n",
        "# By using set data structure because set DS can store distinct element in sorted order.\n",
        "s= set(arr)\n",
        "for i in s:\n",
        "  if K==1:\n",
        "    print(i)\n",
        "    break\n",
        "  K-=1\n",
        "# TIME COMPLEXITY -- O(NlogN)\n",
        "# SPACE COMPLEXITY -- O(N)\n"
      ],
      "metadata": {
        "colab": {
          "base_uri": "https://localhost:8080/"
        },
        "id": "_roid7UDy1Db",
        "outputId": "f0e75bec-0d6d-46cd-f68e-895b34b73639"
      },
      "execution_count": null,
      "outputs": [
        {
          "output_type": "stream",
          "name": "stdout",
          "text": [
            "7\n"
          ]
        }
      ]
    },
    {
      "cell_type": "markdown",
      "source": [
        "**Sort 0 1 2**"
      ],
      "metadata": {
        "id": "ICHe8y5tAHC5"
      }
    },
    {
      "cell_type": "code",
      "source": [
        "arr=[0,1,0,1,0,2,2,1]\n",
        "\n",
        "# M-1: count 0, 1, 2 --> and then update it in the array by using while loop\n",
        "# Time complexity -- O(N)\n",
        "# space complexity -- O(1)\n",
        "\n",
        "# M-2 -- two pointer approach\n",
        "l=0\n",
        "mid=0\n",
        "h=len(arr)-1\n",
        "while(mid<h):\n",
        "  if arr[mid]==0:\n",
        "    arr[l],arr[mid]=arr[mid],arr[l]\n",
        "    l+=1\n",
        "    mid+=1\n",
        "  elif arr[mid]==1:\n",
        "    mid+=1\n",
        "  else:\n",
        "    arr[mid],arr[h]=arr[h],arr[mid]\n",
        "    h-=1\n",
        "print(arr)\n",
        "\n",
        "# Time complexity --- O(N)\n",
        "# Space complexity -- O(1)\n",
        "  "
      ],
      "metadata": {
        "colab": {
          "base_uri": "https://localhost:8080/"
        },
        "id": "c6kwLcJ6AJ5B",
        "outputId": "be2ef910-1e7b-4a94-8e71-84c2d8354881"
      },
      "execution_count": null,
      "outputs": [
        {
          "output_type": "stream",
          "name": "stdout",
          "text": [
            "[0, 0, 0, 1, 1, 1, 2, 2]\n"
          ]
        }
      ]
    },
    {
      "cell_type": "markdown",
      "source": [
        "**Move all negative to one side of an array**"
      ],
      "metadata": {
        "id": "sgtHQCdYNG4N"
      }
    },
    {
      "cell_type": "code",
      "source": [
        "arr=[1,-1,-2,-3,2,4,5,-7,9,-10]\n",
        "l=0\n",
        "h=len(arr)-1\n",
        "mid=0\n",
        "while(mid<h):\n",
        "  if arr[mid]<0:\n",
        "    arr[l],arr[mid]=arr[mid],arr[l]\n",
        "    mid+=1\n",
        "    l+=1\n",
        "  else:\n",
        "    arr[h],arr[mid]=arr[mid],arr[h]\n",
        "    h-=1\n",
        "print(arr)"
      ],
      "metadata": {
        "colab": {
          "base_uri": "https://localhost:8080/"
        },
        "id": "kqrr8FY_NMt1",
        "outputId": "88e2b076-c19d-488b-f8d9-c8eee694dcab"
      },
      "execution_count": null,
      "outputs": [
        {
          "output_type": "stream",
          "name": "stdout",
          "text": [
            "[-10, -1, -2, -3, -7, 5, 4, 9, 2, 1]\n"
          ]
        }
      ]
    },
    {
      "cell_type": "markdown",
      "source": [
        "**Find the union and Instersection of two sorted arrays.**"
      ],
      "metadata": {
        "id": "I6j94eWLN2tm"
      }
    },
    {
      "cell_type": "code",
      "source": [
        "ar1=[1, 3, 4, 5, 7]\n",
        "ar2=[2, 3, 5, 6]\n",
        "\n",
        "# Union of two sorted arrays (duplicates included)\n",
        "\n",
        "i=0\n",
        "j=0\n",
        "m=len(ar1)\n",
        "n=len(ar2)\n",
        "prev=None\n",
        "while(i<m and j<n):\n",
        "  if ar1[i]<ar2[j]:\n",
        "    if ar1[i]!=prev:\n",
        "      print(ar1[i],end=\" \")\n",
        "      prev=ar1[i]\n",
        "    i+=1\n",
        "  elif ar1[i]>ar2[j]:\n",
        "    if ar2[j]!=prev:\n",
        "      print(ar2[j],end=\" \")\n",
        "      prev=ar2[j]\n",
        "    j+=1\n",
        "  else:\n",
        "    if ar1[i]!=prev:\n",
        "      print(ar1[i],end=\" \")\n",
        "      prev=ar1[i]\n",
        "    i+=1\n",
        "    j+=1\n",
        "while(i<m):\n",
        "  if ar1[i]!=prev:\n",
        "    print(ar1[i],end=\" \")\n",
        "  i+=1\n",
        "while(j<n):\n",
        "  if ar2[j]!=prev:\n",
        "    print(ar2[j],end=\" \")\n",
        "  j+=1\n",
        "\n",
        "# Time complexity --- O(n+m)\n",
        "# Space complexity -- O(N)\n",
        "\n",
        "#==============================================================\n",
        "# INTERSECTION \n",
        "\n",
        "i=0\n",
        "j=0\n",
        "res=[]\n",
        "print(\"\\nInternsection\",end=\" \")\n",
        "while(i<m and j<n):\n",
        "  if ar1[i]==ar2[j]:\n",
        "    if len(res)>0 and res[-1]==ar1[i]:\n",
        "      i+=1\n",
        "      j+=1\n",
        "    else:\n",
        "      res.append(ar1[i])\n",
        "      i+=1\n",
        "      j+=1\n",
        "  elif(ar1[i]<ar2[j]):\n",
        "    i+=1\n",
        "  else:\n",
        "    j+=1\n",
        "if not len(res):\n",
        "  \n",
        "  print(-1)\n",
        "print(res)\n"
      ],
      "metadata": {
        "colab": {
          "base_uri": "https://localhost:8080/"
        },
        "id": "l2-BcRBtN_wE",
        "outputId": "05f6f675-0072-4293-e126-7970bdfb23d6"
      },
      "execution_count": null,
      "outputs": [
        {
          "output_type": "stream",
          "name": "stdout",
          "text": [
            "1 2 3 4 5 6 7 \n",
            "Internsection [3, 5]\n"
          ]
        }
      ]
    },
    {
      "cell_type": "markdown",
      "source": [
        "**Rotate array by One element**"
      ],
      "metadata": {
        "id": "7xuvcWU_Rojf"
      }
    },
    {
      "cell_type": "code",
      "source": [
        "ar=[1,2,3,4,5]\n",
        "K=1\n",
        "# Anti-clockwise direction\n",
        "while(K>0):\n",
        "  temp=ar[0]\n",
        "  i=1\n",
        "  n=len(ar)\n",
        "  while(i<n):\n",
        "    ar[i-1]=ar[i]\n",
        "    i+=1\n",
        "  ar[i-1]=temp\n",
        "  K-=1\n",
        "print(ar)\n",
        "\n",
        "# Clockwise direction\n",
        "ar=[1,2,3,4,5]\n",
        "n=len(ar)\n",
        "temp=ar[n-1]\n",
        "j=n-2\n",
        "while(j>=0):\n",
        "  ar[j+1]=ar[j]\n",
        "  j-=1\n",
        "ar[0]=temp\n",
        "print(ar)\n"
      ],
      "metadata": {
        "colab": {
          "base_uri": "https://localhost:8080/"
        },
        "id": "Ox_cmOuaRtSF",
        "outputId": "2fd3598c-2602-42fd-d95e-064de8c7b891"
      },
      "execution_count": null,
      "outputs": [
        {
          "output_type": "stream",
          "name": "stdout",
          "text": [
            "[2, 3, 4, 5, 1]\n",
            "[5, 1, 2, 3, 4]\n"
          ]
        }
      ]
    },
    {
      "cell_type": "markdown",
      "source": [
        "Kadane's Algorithm Contiuous Subaaray sum "
      ],
      "metadata": {
        "id": "z7aLsqj3TwGa"
      }
    },
    {
      "cell_type": "code",
      "source": [
        "ar=[1,2,3,-2,5]\n",
        "n=len(ar)\n",
        "#Output - 9\n",
        "#  KADANE'S ALGORITHM\n",
        "s=0\n",
        "maxi=-9999999\n",
        "for i in ar:\n",
        "  s+=i\n",
        "  maxi=max(s,maxi)\n",
        "  if s<0:\n",
        "    s=0\n",
        "print(maxi)"
      ],
      "metadata": {
        "colab": {
          "base_uri": "https://localhost:8080/"
        },
        "id": "p0r1bHIdT-B-",
        "outputId": "b0d66c2a-28b3-449e-8101-98c24698bfe9"
      },
      "execution_count": null,
      "outputs": [
        {
          "output_type": "stream",
          "name": "stdout",
          "text": [
            "9\n"
          ]
        }
      ]
    },
    {
      "cell_type": "markdown",
      "source": [
        "Minimise the maximum height between heights.\n"
      ],
      "metadata": {
        "id": "qEbCCyp7qHtF"
      }
    },
    {
      "cell_type": "code",
      "source": [
        "ar=[1,5,8,10]\n",
        "k=2\n",
        "n=len(ar)\n",
        "\n",
        "ar.sort()\n",
        "ans=ar[n-1]-ar[0]\n",
        "small = ar[0]+k\n",
        "larg= ar[n-1]-k\n",
        "\n",
        "mini,maxi=0,0\n",
        "for i in range(0,n):\n",
        "  mini=min(small,ar[i]-k)\n",
        "  maxi=max(larg,ar[i]+k)\n",
        "  if mini<0:\n",
        "    continue\n",
        "  ans=min(ans,maxi-mini)\n",
        "print(ans)\n",
        "\n",
        "#Time complexity -- O(nlogn)\n",
        "# space complexity -- O(1)\n"
      ],
      "metadata": {
        "colab": {
          "base_uri": "https://localhost:8080/"
        },
        "id": "M3f10W_lqJIg",
        "outputId": "2db3b727-64a4-4425-f039-10619d0183d3"
      },
      "execution_count": null,
      "outputs": [
        {
          "output_type": "stream",
          "name": "stdout",
          "text": [
            "5\n"
          ]
        }
      ]
    },
    {
      "cell_type": "markdown",
      "source": [
        "Minimum number of Jump to reach end of an array || JUMP GAME 2"
      ],
      "metadata": {
        "id": "xrLLNzjBW-FX"
      }
    },
    {
      "cell_type": "code",
      "source": [
        "ar=[2,3,1,1,4]\n",
        "\n",
        "jump=0\n",
        "pos=0\n",
        "dest=0\n",
        "\n",
        "for i in range(0,len(ar)-1):\n",
        "  dest=max(dest,ar[i]+i)\n",
        "  if pos==i:\n",
        "    pos=dest\n",
        "    jump+=1\n",
        "print(jump)\n"
      ],
      "metadata": {
        "colab": {
          "base_uri": "https://localhost:8080/"
        },
        "id": "O15WKiu9XHnm",
        "outputId": "5ba68b88-52ca-48cd-e012-37399efc7624"
      },
      "execution_count": null,
      "outputs": [
        {
          "output_type": "stream",
          "name": "stdout",
          "text": [
            "2\n"
          ]
        }
      ]
    },
    {
      "cell_type": "markdown",
      "source": [
        "Merge two sorted array"
      ],
      "metadata": {
        "id": "Lfnovx6psbvQ"
      }
    },
    {
      "cell_type": "code",
      "source": [
        "ar1=[1,3,5,7]\n",
        "ar2=[2,4,6,8]\n",
        "n=len(ar1)\n",
        "m=len(ar2)\n",
        "\n",
        "res=[0 for i in range(n+m)]\n",
        "i=0\n",
        "j=0\n",
        "k=0\n",
        "while(i<n and j<m):\n",
        "  if ar1[i]<ar2[j]:\n",
        "    res[k]=ar1[i]\n",
        "    k+=1\n",
        "    i+=1\n",
        "  else:\n",
        "    res[k]=ar2[j]\n",
        "    k+=1\n",
        "    j+=1\n",
        "\n",
        "while(i<n):\n",
        "  res[k]=ar1[i]\n",
        "  k+=1\n",
        "  i+=1\n",
        "while(j<m):\n",
        "  res[k]=ar2[j]\n",
        "  k+=1\n",
        "  j+=1\n",
        "\n",
        "print(res)\n",
        "\n"
      ],
      "metadata": {
        "colab": {
          "base_uri": "https://localhost:8080/"
        },
        "id": "7p84sc3HsfXw",
        "outputId": "7ba67041-0699-46a9-95fe-913a5578618a"
      },
      "execution_count": null,
      "outputs": [
        {
          "output_type": "stream",
          "name": "stdout",
          "text": [
            "[1, 2, 3, 4, 5, 6, 7, 8]\n"
          ]
        }
      ]
    },
    {
      "cell_type": "markdown",
      "source": [
        "**Find duplicate element in N+1 integers**"
      ],
      "metadata": {
        "id": "AFefl7vHtoY3"
      }
    },
    {
      "cell_type": "code",
      "source": [
        "ar=[1,2,3,4,5,6,,7,7]\n"
      ],
      "metadata": {
        "id": "b_uhthFutuxh"
      },
      "execution_count": null,
      "outputs": []
    },
    {
      "cell_type": "markdown",
      "source": [
        "**Merge Intervals**"
      ],
      "metadata": {
        "id": "njwqFVpIIqRI"
      }
    },
    {
      "cell_type": "code",
      "source": [
        "ar=[[1,3],[2,4],[6,8],[9,10]]\n"
      ],
      "metadata": {
        "id": "IeU0ceyJItW1"
      },
      "execution_count": null,
      "outputs": []
    },
    {
      "cell_type": "markdown",
      "source": [
        "**Subaaray Sum divisible by K**"
      ],
      "metadata": {
        "id": "0Kk92EK35pPx"
      }
    },
    {
      "cell_type": "code",
      "source": [
        "def subarraysDivByK(nums, k):\n",
        "  ans=0\n",
        "  sum=0\n",
        "  mydict={0:1}\n",
        "  rem=0\n",
        "  \n",
        "  for i in range(0,len(nums)):\n",
        "      sum+=nums[i]\n",
        "      rem=sum%k\n",
        "      if rem<0:\n",
        "          rem+=k\n",
        "      if rem in mydict:\n",
        "          ans+=mydict[rem]\n",
        "          mydict[rem]+=1\n",
        "      else:\n",
        "          mydict[rem]=1\n",
        "  return ans\n",
        "nums=[4,5,0,-2,-3,1]\n",
        "k=5\n",
        "print(subarraysDivByK(nums,k))"
      ],
      "metadata": {
        "colab": {
          "base_uri": "https://localhost:8080/"
        },
        "id": "TfbO_KHN5t0g",
        "outputId": "756965eb-d9ef-4930-d761-b6b9bbe3aafb"
      },
      "execution_count": 2,
      "outputs": [
        {
          "output_type": "stream",
          "name": "stdout",
          "text": [
            "7\n"
          ]
        }
      ]
    },
    {
      "cell_type": "markdown",
      "source": [
        "**Find All Duplicate in an Array**"
      ],
      "metadata": {
        "id": "Rgl3Qd4w-qT9"
      }
    },
    {
      "cell_type": "code",
      "source": [
        "def findDuplicates(nums):\n",
        "  # Checking the frequency\n",
        "  ans=[0 for i in range(len(nums))]\n",
        "  res=[]\n",
        "  for i in nums:\n",
        "      if ans[i-1]==0:\n",
        "          ans[i-1]=1\n",
        "      else:\n",
        "          ans[i-1]+=1\n",
        "  for i in range(len(ans)): \n",
        "      if ans[i]==2:\n",
        "          res.append(i+1)\n",
        "  return res\n",
        "\n",
        "# Next Approach is make negative for the first when you visited an element \n",
        "# \n",
        "def findDuplicates(nums):\n",
        "  res=[]\n",
        "  for n in nums:\n",
        "    n=abs(n)\n",
        "    if nums[n-1]>0:\n",
        "      nums[n-1]*=-1\n",
        "    else:\n",
        "      res.append(n)\n",
        "  return res\n",
        "# time complexity -- O(N)\n",
        "# Space complexity -- O(1)\n",
        "nums=[4,3,2,7,8,2,3,1]\n",
        "print(findDuplicates(nums))\n"
      ],
      "metadata": {
        "colab": {
          "base_uri": "https://localhost:8080/"
        },
        "id": "UzuA0X7j-vp-",
        "outputId": "8533a59c-9342-4c55-fa91-800c03d6be3e"
      },
      "execution_count": 5,
      "outputs": [
        {
          "output_type": "stream",
          "name": "stdout",
          "text": [
            "[2, 3]\n"
          ]
        }
      ]
    }
  ]
}